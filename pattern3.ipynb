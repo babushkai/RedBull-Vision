{
 "cells": [
  {
   "cell_type": "code",
   "execution_count": null,
   "id": "87c11a28-4227-462d-9b0b-7a9ab8c218fe",
   "metadata": {},
   "outputs": [],
   "source": [
    "import os\n",
    "import google.cloud.aiplatform as aip\n",
    "import kfp\n",
    "from kfp.v2 import compiler\n",
    "from kfp.v2.dsl import component\n",
    "from kfp.v2.google import experimental\n",
    "from google_cloud_pipeline_components import aiplatform as gcc_aip"
   ]
  },
  {
   "cell_type": "code",
   "execution_count": null,
   "id": "5fa3c4ef-6b34-4197-89f4-03d4a6de26a2",
   "metadata": {},
   "outputs": [],
   "source": [
    "PROJECT_ID\n",
    "REGION\n",
    "BUCKET_NAME\n",
    "SERVICE_ACCOUNT\n",
    "PIPELINE_ROOT"
   ]
  },
  {
   "cell_type": "code",
   "execution_count": null,
   "id": "a43525e2-77e1-438a-b5b7-b1ab41264d7e",
   "metadata": {},
   "outputs": [],
   "source": [
    "aip.init(project=, staging_bucket=)"
   ]
  },
  {
   "cell_type": "code",
   "execution_count": null,
   "id": "d277ef0b-0d24-42a7-8f60-1280d55bf3c1",
   "metadata": {},
   "outputs": [],
   "source": [
    "@component"
   ]
  },
  {
   "cell_type": "code",
   "execution_count": null,
   "id": "b3e509e1-1706-4903-af7b-0752e4594eb4",
   "metadata": {},
   "outputs": [],
   "source": [
    "@component"
   ]
  },
  {
   "cell_type": "code",
   "execution_count": null,
   "id": "d0b702ab-616c-49fd-a36a-1b2d45e6a4b8",
   "metadata": {},
   "outputs": [],
   "source": [
    "@component"
   ]
  },
  {
   "cell_type": "code",
   "execution_count": null,
   "id": "dc31ced6-b77f-4e4b-b0fb-82189dabf3bc",
   "metadata": {},
   "outputs": [],
   "source": [
    "#kfp.dsl contains the domain-specific language (DSL) that you can use to define and interact with pipelines and components.\n",
    "@kfp.dsl.pipeline()\n",
    "def pipeline("
   ]
  },
  {
   "cell_type": "code",
   "execution_count": null,
   "id": "eaecf245-d834-4a8a-9f4f-a770b843b096",
   "metadata": {},
   "outputs": [],
   "source": [
    "compiler.Compiler().compile()"
   ]
  },
  {
   "cell_type": "code",
   "execution_count": null,
   "id": "eee9b03c-836e-4667-bc67-a07872d1b1c9",
   "metadata": {},
   "outputs": [],
   "source": [
    "job = aip.PipelineJob()"
   ]
  }
 ],
 "metadata": {
  "environment": {
   "kernel": "python3",
   "name": "tf2-gpu.2-6.m87",
   "type": "gcloud",
   "uri": "gcr.io/deeplearning-platform-release/tf2-gpu.2-6:m87"
  },
  "kernelspec": {
   "display_name": "Python 3 (ipykernel)",
   "language": "python",
   "name": "python3"
  },
  "language_info": {
   "codemirror_mode": {
    "name": "ipython",
    "version": 3
   },
   "file_extension": ".py",
   "mimetype": "text/x-python",
   "name": "python",
   "nbconvert_exporter": "python",
   "pygments_lexer": "ipython3",
   "version": "3.9.6"
  }
 },
 "nbformat": 4,
 "nbformat_minor": 5
}
